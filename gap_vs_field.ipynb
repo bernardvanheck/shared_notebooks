{
 "cells": [
  {
   "cell_type": "code",
   "execution_count": 27,
   "metadata": {
    "collapsed": true
   },
   "outputs": [],
   "source": [
    "%matplotlib inline\n",
    "from __future__ import division\n",
    "import numpy as np\n",
    "import matplotlib.pyplot as plt\n",
    "from scipy.optimize import curve_fit\n",
    "fparams = {'axes.labelsize': 18,\n",
    "           'axes.titlesize': 18,\n",
    "           'font.size': 18,\n",
    "           'legend.fontsize': 16,\n",
    "           'font.family': 'serif',\n",
    "           'font.serif': 'Computer Modern Roman',\n",
    "           'xtick.labelsize': 16,\n",
    "           'ytick.labelsize': 16,\n",
    "           'text.usetex': True,\n",
    "           'figure.autolayout': True}\n",
    "plt.rcParams.update(fparams)"
   ]
  },
  {
   "cell_type": "markdown",
   "metadata": {},
   "source": [
    "## The equation we're trying to fit:\n",
    "\n",
    "$$\n",
    "B(\\Delta) = B_c\\,\\times\\,\\frac{\\sqrt{1 - (\\Delta/\\Delta_\\textrm{Al})^2}}{(1+a)\\,\\sqrt{1-(\\Delta/\\Delta_\\textrm{Al})^2} -a}\\,\\times\\,\\left(\\sqrt{\\frac{1 - (\\Delta/\\Delta_\\textrm{Al})}{1 + (\\Delta/\\Delta_\\textrm{Al})}}- \\frac{\\Delta}{\\Delta_0}\\,\\sqrt{\\frac{1 - (\\Delta_0/\\Delta_\\textrm{Al})}{1 + (\\Delta_0/\\Delta_\\textrm{Al})}}\\right)\n",
    "$$\n",
    "\n",
    "with $a=g_\\textrm{Al}\\,\\mu_B\\,B_c$. Assuming $g_\\textrm{Al}$ is known, there are three free parameters $B_c, \\Delta_0, \\Delta_\\textrm{Al}$."
   ]
  },
  {
   "cell_type": "code",
   "execution_count": 28,
   "metadata": {
    "collapsed": true
   },
   "outputs": [],
   "source": [
    "ydata = np.array([0, 50, 75, 100, 150, 200, 250])\n",
    "xdata = np.array([151.6, 148.1, 148.6, 140.8, 129.3, 111.1, 77.1])\n",
    "xdev = np.array([1.6, 1.6, 1.7, 1.6, 1.7, 1.45, 2.2])"
   ]
  },
  {
   "cell_type": "code",
   "execution_count": 75,
   "metadata": {
    "collapsed": false
   },
   "outputs": [],
   "source": [
    "def a(Bc, gap_Al):\n",
    "    return 2 * 57.8 * Bc * 1e-3 / gap_Al\n",
    "\n",
    "def g_factor(Bc, gap_Al, gap_0):\n",
    "    x0 = gap_0 / gap_Al\n",
    "    return gap_Al * (1 + a(Bc, gap_Al)) * x0 * np.sqrt((1 + x0)/(1 - x0)) / (57.8 * 1e-3 * Bc)\n",
    "\n",
    "def field_vs_gap(x, Bc, gap_Al, gap_0):\n",
    "    xnew = x / gap_Al\n",
    "    x0 = gap_0 / gap_Al\n",
    "    # Implements a constraint for x0 < 1\n",
    "    if x0 > 1:\n",
    "        return 1e16\n",
    "    z1 = np.sqrt(1 - xnew**2)\n",
    "    z2 = np.sqrt((1 - xnew)/(1 + xnew))\n",
    "    z3 = np.sqrt((1 - x0)/(1 + x0))\n",
    "    return Bc * (z1 / ((1 + a(Bc, gap_Al)) * z1 - a(Bc, gap_Al))) * (z2 -  (xnew / x0) * z3) "
   ]
  },
  {
   "cell_type": "code",
   "execution_count": 80,
   "metadata": {
    "collapsed": false
   },
   "outputs": [
    {
     "name": "stdout",
     "output_type": "stream",
     "text": [
      "493.983723608 157.438271709 52.6412648573\n"
     ]
    }
   ],
   "source": [
    "popt, pcov = curve_fit(lambda x, Bc, gap_Al: field_vs_gap(x, Bc, gap_Al, xdata[0]), xdata, ydata, p0=[300, 160])\n",
    "gopt = g_factor(popt[0], popt[1], xdata[0])\n",
    "print popt[0], popt[1], gopt"
   ]
  },
  {
   "cell_type": "markdown",
   "metadata": {},
   "source": [
    "The parameters spit out from the fit are:\n",
    "\n",
    "$B_C \\simeq 494$ mT\n",
    "\n",
    "$\\Delta_\\textrm{Al}\\simeq 158\\,\\mu$eV\n",
    "\n",
    "These give a g-factor of ~ 52."
   ]
  },
  {
   "cell_type": "code",
   "execution_count": 81,
   "metadata": {
    "collapsed": false
   },
   "outputs": [
    {
     "data": {
      "text/plain": [
       "<matplotlib.text.Text at 0x107897250>"
      ]
     },
     "execution_count": 81,
     "metadata": {},
     "output_type": "execute_result"
    },
    {
     "data": {
      "image/png": "[encoded data removed]",
      "text/plain": [
       "<matplotlib.figure.Figure at 0x10720ec10>"
      ]
     },
     "metadata": {},
     "output_type": "display_data"
    }
   ],
   "source": [
    "xs = np.linspace(0, xdata[0], 200)\n",
    "ys = np.array([field_vs_gap(x, popt[0], popt[1], xdata[0]) for x in xs])\n",
    "fig, ax = plt.subplots()\n",
    "ax.errorbar(ydata, xdata, yerr=xdev, fmt='o')\n",
    "ax.plot(ys, xs)\n",
    "ax.set_xticks([0, 200, 400])\n",
    "ax.set_yticks([0, 50, 100, 150])\n",
    "ax.set_xlabel(r'$B$ [mT]')\n",
    "ax.set_ylabel(r'$\\Delta(B)$ [meV]')"
   ]
  },
  {
   "cell_type": "markdown",
   "metadata": {},
   "source": [
    "I can also try to fix $\\Delta_\\textrm{Al}$ to, say, 180 $\\mu$ eV and then re-do the fit. Then I get\n",
    "\n",
    "$B_C \\simeq 590$ mT\n",
    "\n",
    "and a g-factor of ~ 21. Not surprisingly, the agreement with the data is much worse."
   ]
  },
  {
   "cell_type": "code",
   "execution_count": 88,
   "metadata": {
    "collapsed": false
   },
   "outputs": [
    {
     "name": "stdout",
     "output_type": "stream",
     "text": [
      "[ 590.9715316] [ 20.92115382]\n"
     ]
    }
   ],
   "source": [
    "Bc_opt, Bc_cov = curve_fit(lambda x, Bc: field_vs_gap(x, Bc, 180, xdata[0]), xdata, ydata, p0=[300])\n",
    "gopt2 = g_factor(Bc_opt, 180, xdata[0])\n",
    "print Bc_opt, gopt2"
   ]
  },
  {
   "cell_type": "code",
   "execution_count": 89,
   "metadata": {
    "collapsed": false
   },
   "outputs": [
    {
     "data": {
      "text/plain": [
       "<matplotlib.text.Text at 0x107982950>"
      ]
     },
     "execution_count": 89,
     "metadata": {},
     "output_type": "execute_result"
    },
    {
     "data": {
      "image/png": "[encoded data removed]",
      "text/plain": [
       "<matplotlib.figure.Figure at 0x107475610>"
      ]
     },
     "metadata": {},
     "output_type": "display_data"
    }
   ],
   "source": [
    "xs = np.linspace(0, xdata[0], 200)\n",
    "ys = np.array([field_vs_gap(x, Bc_opt, 180, xdata[0]) for x in xs])\n",
    "fig, ax = plt.subplots()\n",
    "ax.errorbar(ydata, xdata, yerr=xdev, fmt='o')\n",
    "ax.plot(ys, xs)\n",
    "ax.set_xticks([0, 200, 400])\n",
    "ax.set_yticks([0, 50, 100, 150])\n",
    "ax.set_xlabel(r'$B$ [mT]')\n",
    "ax.set_ylabel(r'$\\Delta(B)$ [meV]')"
   ]
  }
 ],
 "metadata": {
  "kernelspec": {
   "display_name": "Python 2",
   "language": "python",
   "name": "python2"
  },
  "language_info": {
   "codemirror_mode": {
    "name": "ipython",
    "version": 2
   },
   "file_extension": ".py",
   "mimetype": "text/x-python",
   "name": "python",
   "nbconvert_exporter": "python",
   "pygments_lexer": "ipython2",
   "version": "2.7.11"
  }
 },
 "nbformat": 4,
 "nbformat_minor": 0
}
