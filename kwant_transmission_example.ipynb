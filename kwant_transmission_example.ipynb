{
 "cells": [
  {
   "cell_type": "code",
   "execution_count": 1,
   "metadata": {
    "collapsed": false
   },
   "outputs": [],
   "source": [
    "%matplotlib inline\n",
    "import numpy as np\n",
    "import kwant\n",
    "import mpld3\n",
    "from matplotlib import pyplot as plt"
   ]
  },
  {
   "cell_type": "code",
   "execution_count": 2,
   "metadata": {
    "collapsed": false
   },
   "outputs": [],
   "source": [
    "def make_system(t=1.0, dis=0.3, E0=complex(0,-0.00029)*0.001, E0L=0., salt='abc', W=200, L=500):\n",
    "    # Makes a 2d wire with a disordered segment.\n",
    "    lat = kwant.lattice.square(1)\n",
    "    sys = kwant.Builder()\n",
    "    \n",
    "    #### Define the scattering region. ####\n",
    "    onsite = lambda site: E0 + dis * (2 * kwant.digest.uniform(repr(site), salt) - 1)\n",
    "    rectangle = lambda pos: 0 <= pos[0] < L and 0 <= pos[1] < W\n",
    "    sys[lat.shape(rectangle, (0, 0))] = onsite\n",
    "    sys[lat.neighbors()] = t\n",
    "\n",
    "\n",
    "    #### Define and attach the leads. ####\n",
    "    # Construct the left lead.\n",
    "    lead = kwant.Builder(kwant.TranslationalSymmetry((-1, 0)))\n",
    "    lead[(lat(0, j) for j in xrange(W))] = E0L\n",
    "    lead[lat.neighbors()] = t\n",
    "\n",
    "    # Attach the left lead and its reversed copy.\n",
    "    sys.attach_lead(lead)\n",
    "    sys.attach_lead(lead.reversed())\n",
    "\n",
    "    return sys"
   ]
  },
  {
   "cell_type": "code",
   "execution_count": null,
   "metadata": {
    "collapsed": false
   },
   "outputs": [],
   "source": [
    "N = 100\n",
    "ts = []\n",
    "rs = []\n",
    "for n in xrange(N):\n",
    "    print n\n",
    "    fsys = make_system(salt = str(n)).finalized()\n",
    "    s = kwant.smatrix(fsys, energy = 0.38, check_hermiticity=False)\n",
    "    ts += list(np.linalg.svd(s.submatrix(1,0), compute_uv=False))\n",
    "    rs += list(np.linalg.svd(s.submatrix(0,0), compute_uv=False))"
   ]
  },
  {
   "cell_type": "code",
   "execution_count": 5,
   "metadata": {
    "collapsed": false
   },
   "outputs": [],
   "source": [
    "t_eigs = np.array(ts)**2\n",
    "r_eigs = np.array(rs)**2"
   ]
  },
  {
   "cell_type": "code",
   "execution_count": 10,
   "metadata": {
    "collapsed": true
   },
   "outputs": [],
   "source": [
    "# saved output\n",
    "np.savez(\"t_r_coefficients\", ts = t_eigs, rs = r_eigs)"
   ]
  },
  {
   "cell_type": "code",
   "execution_count": 18,
   "metadata": {
    "collapsed": true
   },
   "outputs": [],
   "source": [
    "# To load saved output:\n",
    "# a = np.load(\"t_r_coefficients.npz\")\n",
    "# a.files"
   ]
  },
  {
   "cell_type": "markdown",
   "metadata": {},
   "source": [
    "Histogram of transmission eigenvalues"
   ]
  },
  {
   "cell_type": "code",
   "execution_count": 6,
   "metadata": {
    "collapsed": false
   },
   "outputs": [
    {
     "data": {
      "image/png": "[encoded data removed]",
      "text/plain": [
       "<matplotlib.figure.Figure at 0x10e87a690>"
      ]
     },
     "metadata": {},
     "output_type": "display_data"
    }
   ],
   "source": [
    "hist_t = plt.hist(t_eigs, bins=100)"
   ]
  },
  {
   "cell_type": "code",
   "execution_count": 7,
   "metadata": {
    "collapsed": false
   },
   "outputs": [
    {
     "data": {
      "image/png": "[encoded data removed]",
      "text/plain": [
       "<matplotlib.figure.Figure at 0x10e87af10>"
      ]
     },
     "metadata": {},
     "output_type": "display_data"
    }
   ],
   "source": [
    "plt.hist(t_eigs, bins=np.logspace(-12., 0., 160))\n",
    "plt.xscale('log')"
   ]
  },
  {
   "cell_type": "markdown",
   "metadata": {},
   "source": [
    "Histogram of 1-r"
   ]
  },
  {
   "cell_type": "code",
   "execution_count": 8,
   "metadata": {
    "collapsed": false
   },
   "outputs": [
    {
     "data": {
      "image/png": "[encoded data removed]",
      "text/plain": [
       "<matplotlib.figure.Figure at 0x10f586410>"
      ]
     },
     "metadata": {},
     "output_type": "display_data"
    }
   ],
   "source": [
    "hist_r = plt.hist(1-r_eigs, bins=np.logspace(-5, 0., 160))\n",
    "plt.xscale('log')"
   ]
  },
  {
   "cell_type": "code",
   "execution_count": 9,
   "metadata": {
    "collapsed": false
   },
   "outputs": [
    {
     "data": {
      "image/png": "[encoded data removed]",
      "text/plain": [
       "<matplotlib.figure.Figure at 0x10f1e6450>"
      ]
     },
     "metadata": {},
     "output_type": "display_data"
    }
   ],
   "source": [
    "#plt.plot(ts, '.')\n",
    "plt.plot(1-np.sort(r_eigs)[::-1])\n",
    "plt.yscale('log')"
   ]
  }
 ],
 "metadata": {
  "kernelspec": {
   "display_name": "Python 2",
   "language": "python",
   "name": "python2"
  },
  "language_info": {
   "codemirror_mode": {
    "name": "ipython",
    "version": 2
   },
   "file_extension": ".py",
   "mimetype": "text/x-python",
   "name": "python",
   "nbconvert_exporter": "python",
   "pygments_lexer": "ipython2",
   "version": "2.7.10"
  }
 },
 "nbformat": 4,
 "nbformat_minor": 0
}
