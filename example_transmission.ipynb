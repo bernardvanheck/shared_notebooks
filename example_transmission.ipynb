{
 "cells": [
  {
   "cell_type": "code",
   "execution_count": 25,
   "metadata": {
    "collapsed": false
   },
   "outputs": [],
   "source": [
    "%matplotlib inline\n",
    "import numpy as np\n",
    "import kwant\n",
    "from matplotlib import pyplot as plt"
   ]
  },
  {
   "cell_type": "code",
   "execution_count": 136,
   "metadata": {
    "collapsed": false
   },
   "outputs": [],
   "source": [
    "def make_system(t=1.0, dis = 0.3, salt='abc', W=15, L=30):\n",
    "    # Makes a 2d wire with a disordered segmentegion.\n",
    "    lat = kwant.lattice.square(1)\n",
    "    sys = kwant.Builder()\n",
    "    \n",
    "    \n",
    "    #### Define the scattering region. ####\n",
    "    onsite = lambda site: 4 * t - (2 * uniform(repr(site), salt) - 1) * dis\n",
    "    rectangle = lambda pos: 0 <= pos[0] < L and 0 <= pos[1] < W\n",
    "    sys[lat.shape(rectangle, (0, 0))] = onsite\n",
    "    sys[lat.neighbors()] = -t\n",
    "\n",
    "\n",
    "    #### Define and attach the leads. ####\n",
    "    # Construct the left lead.\n",
    "    lead = kwant.Builder(kwant.TranslationalSymmetry((-1, 0)))\n",
    "    lead[(lat(0, j) for j in xrange(W))] = 4 * t\n",
    "    lead[lat.neighbors()] = -t\n",
    "\n",
    "    # Attach the left lead and its reversed copy.\n",
    "    sys.attach_lead(lead)\n",
    "    sys.attach_lead(lead.reversed())\n",
    "\n",
    "    return sys"
   ]
  },
  {
   "cell_type": "code",
   "execution_count": 87,
   "metadata": {
    "collapsed": false
   },
   "outputs": [
    {
     "data": {
      "image/png": "[encoded data removed]",
      "text/plain": [
       "<matplotlib.figure.Figure at 0x110897e90>"
      ]
     },
     "metadata": {},
     "output_type": "display_data"
    }
   ],
   "source": [
    "kwant.plot(make_system());"
   ]
  },
  {
   "cell_type": "code",
   "execution_count": 141,
   "metadata": {
    "collapsed": true
   },
   "outputs": [],
   "source": [
    "# Compute the scattering matrix\n",
    "wire = make_system().finalized()\n",
    "s = kwant.smatrix(wire, energy = 0.8)"
   ]
  },
  {
   "cell_type": "code",
   "execution_count": 158,
   "metadata": {
    "collapsed": false
   },
   "outputs": [
    {
     "name": "stdout",
     "output_type": "stream",
     "text": [
      "(4, 4)\n",
      "(4, 4)\n"
     ]
    }
   ],
   "source": [
    "# Select a given block of the scattering matrix\n",
    "transmission_matrix = s.submatrix(1, 0)\n",
    "reflection_matrix = s.submatrix(0, 0)\n",
    "print(transmission_matrix.shape)\n",
    "print(reflection_matrix.shape)"
   ]
  },
  {
   "cell_type": "code",
   "execution_count": 159,
   "metadata": {
    "collapsed": false
   },
   "outputs": [],
   "source": [
    "# NumPy svd\n",
    "U, ts, V = np.linalg.svd(transmission_matrix, full_matrices=True)\n",
    "W, rs, Z = np.linalg.svd(reflection_matrix, full_matrices=True)\n",
    "# A similar routine is available with SciPy, scipy.linalg.svd\n",
    "# numpy.linalg and scipy.linalg contain other routines for eigenvalues, eigenvectors, etc..."
   ]
  },
  {
   "cell_type": "code",
   "execution_count": 150,
   "metadata": {
    "collapsed": false
   },
   "outputs": [
    {
     "name": "stdout",
     "output_type": "stream",
     "text": [
      "[ 0.99926078  0.98151397  0.93980332  0.90585404]\n",
      "[ 0.42358997  0.34171586  0.19139051  0.03844339]\n"
     ]
    }
   ],
   "source": [
    "print(ts) # Transmission eigenvalues\n",
    "print(rs) # Reflection eigenvalues"
   ]
  },
  {
   "cell_type": "code",
   "execution_count": 149,
   "metadata": {
    "collapsed": false
   },
   "outputs": [
    {
     "data": {
      "text/plain": [
       "3.9999999999999933"
      ]
     },
     "execution_count": 149,
     "metadata": {},
     "output_type": "execute_result"
    }
   ],
   "source": [
    "np.sum(ts**2 + rs**2) # Unitarity check"
   ]
  },
  {
   "cell_type": "code",
   "execution_count": 152,
   "metadata": {
    "collapsed": false
   },
   "outputs": [],
   "source": [
    "# Below I plot the total transmission versus the energy, computed via the method smatrix.transmission()\n",
    "data = []\n",
    "energies = [0.002 * i for i in xrange(500)]\n",
    "for energy in energies:\n",
    "    smatrix = kwant.smatrix(wire, energy)\n",
    "    data.append(smatrix.transmission(1, 0))"
   ]
  },
  {
   "cell_type": "code",
   "execution_count": 156,
   "metadata": {
    "collapsed": false
   },
   "outputs": [
    {
     "data": {
      "image/png": "[encoded data removed]",
      "text/plain": [
       "<matplotlib.figure.Figure at 0x1106f1e10>"
      ]
     },
     "metadata": {},
     "output_type": "display_data"
    }
   ],
   "source": [
    "plt.figure()\n",
    "plt.plot(energies, data)\n",
    "plt.xlabel(\"energy [t]\")\n",
    "plt.ylabel(\"transmission\")\n",
    "plt.axvline(0.8, c='k')\n",
    "plt.axhline(np.sum(t**2), c='k')\n",
    "plt.show()"
   ]
  }
 ],
 "metadata": {
  "kernelspec": {
   "display_name": "Python 2",
   "language": "python",
   "name": "python2"
  },
  "language_info": {
   "codemirror_mode": {
    "name": "ipython",
    "version": 2
   },
   "file_extension": ".py",
   "mimetype": "text/x-python",
   "name": "python",
   "nbconvert_exporter": "python",
   "pygments_lexer": "ipython2",
   "version": "2.7.10"
  }
 },
 "nbformat": 4,
 "nbformat_minor": 0
}
