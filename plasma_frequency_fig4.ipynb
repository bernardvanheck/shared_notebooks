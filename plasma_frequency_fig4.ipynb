{
 "cells": [
  {
   "cell_type": "code",
   "execution_count": 13,
   "metadata": {
    "collapsed": false
   },
   "outputs": [],
   "source": [
    "import numpy as np\n",
    "CONV = 4.135668 # h * 1 GHz = 4.135668 µeV\n",
    "pinchoff = (np.sqrt(2 * 75.5 * 29.1))\n",
    "zeroflux = (np.sqrt(2 * (75.5 + 150 * 0.55 / 4) * 29.1))\n",
    "piflux = (np.sqrt(2 * (75.5 - 150 * 0.55 / 4) * 29.1)) "
   ]
  },
  {
   "cell_type": "code",
   "execution_count": 18,
   "metadata": {
    "collapsed": false
   },
   "outputs": [
    {
     "data": {
      "text/plain": [
       "4.4208508944154197"
      ]
     },
     "execution_count": 18,
     "metadata": {},
     "output_type": "execute_result"
    }
   ],
   "source": [
    "(zeroflux - piflux)/CONV"
   ]
  },
  {
   "cell_type": "markdown",
   "metadata": {},
   "source": [
    "Let me measure all energies in $\\mu$eV. From the table in the supplementary I have $E_J = 75.5\\,\\mu$eV, $E_C=29.1\\,\\mu$eV. This means that at pinch-off:\n",
    "\n",
    "\\begin{equation}\n",
    "h\\omega_\\textrm{pinchoff}\\,=\\,\\sqrt{2 E_C E_J} \\approx 66.28 \\,\\mu\\textrm{eV}\n",
    "\\end{equation}\n",
    "\n",
    "When I convert to GHz, I indeed obtain $\\omega_\\textrm{pinchoff} = 16.02$ GHz as quoted in the Supplementary.\n",
    "\n",
    "Now let's compute approximately the plasma frequency away from pinch-off, for a gate voltage close to that in panel a of Fig. 4. For that one we estimate $\\Delta\\approx 150\\,\\mu$eV and $T\\approx 0.55$. The plasma frequency is now a function of flux $\\varphi$. In particular, by expanding the Josephson potential we may estimate its maximum value at $\\varphi=0$ and its minimum value at flux $\\varphi=\\pi$.\n",
    "\n",
    "We get\n",
    "\n",
    "\\begin{align}\n",
    "h\\omega_{\\varphi=0}\\,=\\,\\sqrt{2 E_C (E_J + \\Delta T /4)} \\approx 74.79 \\,\\mu\\textrm{eV}\\\\\n",
    "h\\omega_{\\varphi=\\pi}\\,=\\,\\sqrt{2 E_C (E_J - \\Delta T /4)} \\approx 56.51 \\,\\mu\\textrm{eV}\n",
    "\\end{align}\n",
    "\n",
    "Note: this actually assumes that at $\\varphi=\\pi$ the Josephson potential has a single minimum. This may actually not be the case given the energy scales of the circuit (recall the double well in Gijs' paper). However, for the moment let's neglect this complication.\n",
    "\n",
    "You see that as a function of the plasma frequency the range of oscillation of $\\omega_p$ is given by:\n",
    "\n",
    "\\begin{equation}\n",
    "h\\delta\\omega\\,=h(\\omega_{\\varphi=0}-\\omega_{\\varphi=\\pi}) \\approx 18.28 \\,\\mu\\textrm{eV}\n",
    "\\end{equation}\n",
    "\n",
    "In GHz, the variation is given by $\\delta\\omega \\approx 4.42$ GHz.\n",
    "\n",
    "With comparison to the data, we must also include a factor of 2 due to the relation $2eV=\\omega$ for the ICPT. This means that the variation of the plasma frequency with flux should be visibile as an oscillation of about\n",
    "\n",
    "$$\\frac{h\\delta\\omega}{2e}\\approx 9.14\\,\\mu\\textrm{V}.$$\n",
    "\n",
    "This is roughly what I see in the data scan: the LC line oscillates by about $10\\,\\mu$V. So that seems to be OK.\n",
    "\n",
    "What does not agree is the value of the plasma frequency at zero flux. To extract this value directly from the data, I look at the position of maximum intensity of the signal for $\\varphi\\approx 0$ in the $B=0$ data scan that you sent me. This way, I would estimate:\n",
    "\n",
    "\\begin{align}\n",
    "h\\omega^\\textrm{measured}_{\\varphi=0}\\,\\approx 58.46 \\,\\mu\\textrm{eV}\\\\\n",
    "\\end{align}\n",
    "\n",
    "So as you can see, the problem is that with $E_J\\approx 75.5\\,\\mu$eV and $E_C\\approx 29.1\\,\\mu$eV, we obtain the problematic conclusion:\n",
    "\n",
    "\\begin{align}\n",
    "\\omega_\\textrm{pinchoff} > \\omega^\\textrm{measured}_{\\varphi=0}\n",
    "\\end{align}\n",
    "\n",
    "I don't understand how this can be the case. One would of course expect the plasma frequency at zero flux to be larger than that at pinch-off. Not surprisingly, my fits are off because they overestimate $\\omega_{\\varphi=0}$. \n",
    "\n",
    "Possible resolutions (not to rule out anything):\n",
    "\n",
    "* Either $E_J$ or $E_C$ are overestimated.\n",
    "* The voltage vlaues of the data set I am using is off.\n",
    "* My extraction of the plasma frequency value is wrong. However, I simply find a maximum and read out the corresponding voltage value, so I don't see how it can be wrong by more than a few percent. In the plots for Fig. 3, this simple procedure seems to work fine.\n",
    "\n",
    "I think I recall that you guys have a way to extract the curve $\\omega(\\varphi)$ by fitting the LC peak. Which value of $\\omega_{\\varphi=0}$ do you extract? Would it lead to a different conclusion?"
   ]
  }
 ],
 "metadata": {
  "kernelspec": {
   "display_name": "Python 2",
   "language": "python",
   "name": "python2"
  },
  "language_info": {
   "codemirror_mode": {
    "name": "ipython",
    "version": 2
   },
   "file_extension": ".py",
   "mimetype": "text/x-python",
   "name": "python",
   "nbconvert_exporter": "python",
   "pygments_lexer": "ipython2",
   "version": "2.7.11"
  }
 },
 "nbformat": 4,
 "nbformat_minor": 0
}
