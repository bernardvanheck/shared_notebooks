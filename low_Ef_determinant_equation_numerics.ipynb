{
 "cells": [
  {
   "cell_type": "code",
   "execution_count": 1,
   "metadata": {
    "collapsed": false
   },
   "outputs": [
    {
     "data": {
      "text/plain": [
       "{'divide': 'warn', 'invalid': 'warn', 'over': 'warn', 'under': 'ignore'}"
      ]
     },
     "execution_count": 1,
     "metadata": {},
     "output_type": "execute_result"
    }
   ],
   "source": [
    "%matplotlib inline\n",
    "from __future__ import division\n",
    "import numpy as np\n",
    "import cmath\n",
    "from scipy.optimize import fsolve, minimize_scalar, minimize, brentq, curve_fit\n",
    "import matplotlib.pyplot as plt\n",
    "from matplotlib import cm\n",
    "\n",
    "class SimpleNamespace(object):\n",
    "    \"\"\"A simple container for parameters.\"\"\"\n",
    "    def __init__(self, **kwargs):\n",
    "        self.__dict__.update(kwargs)\n",
    "        \n",
    "fparams = {'axes.labelsize': 18,\n",
    "           'axes.titlesize': 18,\n",
    "           'font.size': 18,\n",
    "           'legend.fontsize': 16,\n",
    "           'font.family': 'serif',\n",
    "           'font.serif': 'Computer Modern Roman',\n",
    "           'xtick.labelsize': 16,\n",
    "           'ytick.labelsize': 16,\n",
    "           'text.usetex': True,\n",
    "           'image.cmap': 'seismic', \n",
    "           'figure.autolayout': True}\n",
    "plt.rcParams.update(fparams)\n",
    "\n",
    "# Pauli matrices\n",
    "sx = np.array([[0, 1], [1, 0]], complex)\n",
    "sy = np.array([[0 , -1j], [1j, 0]])\n",
    "sz = np.array([[1, 0], [0, -1]], complex)\n",
    "s0 = np.array([[1, 0], [0, 1]], complex)\n",
    "\n",
    "# Physical constants\n",
    "MU_B = 5.788381 * 1e-2 # Bohr magneton in units of µeV * mT^(-1).\n",
    "GAP = 151.8 # This is the gap from the zero-field data, in µeV.\n",
    "TAU = 0.56 # This is the transmission from the zero-field data\n",
    "\n",
    "# 8x8 Identity matrix\n",
    "eye = np.eye(8, dtype=complex)\n",
    "\n",
    "np.seterr(all='raise', divide=None, over=None, under=None, invalid=None)"
   ]
  },
  {
   "cell_type": "code",
   "execution_count": 2,
   "metadata": {
    "collapsed": false
   },
   "outputs": [],
   "source": [
    "def pole(x, y, n=0):\n",
    "    if n==0:\n",
    "        pol = -1j * np.sqrt(1 - x**2)\n",
    "    elif n==1:\n",
    "        pol = -1j * np.sqrt((1 - y)**2 - x**2)\n",
    "    elif n==2:\n",
    "        pol = -1j * np.sqrt((1 + y)**2 - x**2)\n",
    "    else:\n",
    "        print \"Invalid choice for the pole number\"\n",
    "        pol = None\n",
    "    return pol"
   ]
  },
  {
   "cell_type": "code",
   "execution_count": 3,
   "metadata": {
    "collapsed": false
   },
   "outputs": [
    {
     "data": {
      "text/plain": [
       "-1.4866068747318506j"
      ]
     },
     "execution_count": 3,
     "metadata": {},
     "output_type": "execute_result"
    }
   ],
   "source": [
    "pole(0.2, 0.5, 2)"
   ]
  },
  {
   "cell_type": "code",
   "execution_count": 4,
   "metadata": {
    "collapsed": true
   },
   "outputs": [],
   "source": [
    "def a(x, y):\n",
    "    a = x * (1 - x**2 + y**2) * np.kron(s0, s0)\n",
    "    a += y * (-1 - x**2 + y**2) * np.kron(s0, sx) \n",
    "    a -= 2 * x * y * np.kron(sx, sx)\n",
    "    a += (1 - x**2 - y**2) * np.kron(sx, s0)\n",
    "    return a\n",
    "\n",
    "\n",
    "def c(x, y):\n",
    "    return x * np.kron(s0, s0) + y * np.kron(s0, sx) + np.kron(sx, s0);\n",
    "\n",
    "\n",
    "def g1(x, q0):\n",
    "    num = q0 * np.kron(sz, sz) + x * np.kron(s0, s0) + np.kron(sx, s0)\n",
    "    denom = 2 * q0\n",
    "    return - num / denom\n",
    "\n",
    "\n",
    "def g2(x, y, q1, q2):\n",
    "    num = a(x, y) - q1 * q2 * c(x, y) - np.kron(sz, sz) * q1 * q2 * (q1 + q2)\n",
    "    denom = 2 * q1 * q2 * (q1 + q2)\n",
    "    return num / denom\n",
    "\n",
    "\n",
    "def g(x, y, q0, q1, q2):\n",
    "    return 0.5 * np.kron(g1(x, q0), s0 + sz) + 0.5 * np.kron(g2(x, y, q1, q2), s0 - sz) \n",
    "\n",
    "\n",
    "def T(tau):\n",
    "    r = np.sqrt(1 - tau) / np.sqrt(tau)\n",
    "    T = eye - 1j * r * np.kron(s0, np.kron(sz, s0))\n",
    "    T += r * np.kron(s0, np.kron(sy, sx))\n",
    "    return T"
   ]
  },
  {
   "cell_type": "code",
   "execution_count": 16,
   "metadata": {
    "collapsed": false
   },
   "outputs": [
    {
     "name": "stdout",
     "output_type": "stream",
     "text": [
      "\n"
     ]
    }
   ],
   "source": [
    "def bound_state_determinant(x, y, tau, phi=np.pi, remove_asymptote=True, tol=1e-6, warn=False):\n",
    "    q0 = pole(x, y, n=0)\n",
    "    q1 = pole(x, y, n=1)\n",
    "    q2 = pole(x, y, n=2)\n",
    "    phiexp = np.cos(0.5 * phi) * eye - 1j *  np.sin(0.5 * phi) * np.kron(sz, np.kron(s0, s0))\n",
    "    tfactor = np.dot(phiexp, T(tau)) - eye\n",
    "    gfactor = np.dot(g(x, y, q0, q1, q2), np.kron(sz, np.kron(sz, s0)))\n",
    "    m = eye - np.dot(gfactor, tfactor)\n",
    "    mdet = np.linalg.det(m)\n",
    "    if remove_asymptote:\n",
    "        mdet *= (q0 * q1 * q2 * (q1+q2))**8\n",
    "    if warn and (mdet.imag > tol):\n",
    "        print \"Imaginary part large at:\", x, np.abs(x - gap(p)), mdet.imag, mdet.real, mdet.imag/mdet.real\n",
    "        print Warning(\"The imaginary part of the determinant is greater than %s\" % tol)\n",
    "    return mdet.real\n",
    "\n",
    "\n",
    "def func(xs, y, tau, phi=np.pi, remove_asymptote=False):\n",
    "    domain = lambda x : ((x >= 0) & (x <= 1 - y))\n",
    "    if isinstance(xs, np.ndarray):\n",
    "        vals = np.array([bound_state_determinant(x, y, tau, phi, remove_asymptote) if domain(x) else 100 * abs(x) + 100 for x in xs])\n",
    "        return vals\n",
    "    else:\n",
    "        return bound_state_determinant(xs, y, tau, phi)"
   ]
  },
  {
   "cell_type": "code",
   "execution_count": 30,
   "metadata": {
    "collapsed": false
   },
   "outputs": [],
   "source": [
    "def find_abs_energies(p):\n",
    "    \n",
    "    # Take care of y=0 case\n",
    "    if p.y == 0:\n",
    "            Ea = np.sqrt(1 - p.tau * np.sign(p.phi/2)**2)\n",
    "            return (Ea, Ea)\n",
    "    \n",
    "    gap = 1 - p.y\n",
    "    xs = np.linspace(0., gap, 1000, endpoint=False)\n",
    "    sample = func(xs, p.y, p.tau, p.phi)\n",
    "    sign_changes = np.nonzero(np.diff(np.sign(sample)))[0]\n",
    "    intervals = [[xs[s - 1], xs[s + 1]] for s in sign_changes]\n",
    "    Ns = len(sign_changes)\n",
    "    \n",
    "    # Discard sign changes in consecutive values of the sample\n",
    "    # These are assumed to be fluctuations\n",
    "    if Ns == 2 and np.diff(sign_changes)[0]==1:\n",
    "        print \"Discarding sign change detections: too close to each other.\"\n",
    "        Ns = 0\n",
    "    \n",
    "    # Adjust the boundary conditions in case solutions\n",
    "    # are very close to x=0 or x=gap\n",
    "    if Ns:\n",
    "        for s in sign_changes:\n",
    "            if s == 0:\n",
    "                print \"first sign change very close to x=0\"\n",
    "                intervals[0][0] = 0.\n",
    "            #if s == (len(xs)-2):\n",
    "            #    print \"second sign change very close to the gap x=0\"\n",
    "            #    print Ns\n",
    "            #    intervals[1][1] = gap\n",
    "\n",
    "    if Ns == 0:\n",
    "        print \"No sign changes:\", Ns\n",
    "        return(gap, gap)\n",
    "    elif Ns == 1:\n",
    "        x_1, x_2 = intervals[0]\n",
    "        try:\n",
    "            sol1 = brentq(lambda x: func(x, p.y, p.tau, p.phi), x_1, x_2, full_output=False)\n",
    "        except Exception, e:\n",
    "            print \"Parameters: \", p.y, p.tau, p.phi\n",
    "            print \"Bracketing interval: \", (x_1, x_2)\n",
    "            print \"Function values:\", func(x_1, p.y, p.tau, p.phi), func(x_2, p.y, p.tau, p.phi)\n",
    "            plt.plot(xs, func(xs, p.y, p.tau, p.phi))\n",
    "            raise e\n",
    "        return (sol1, gap)\n",
    "    elif Ns == 2:\n",
    "        x_1, x_2 = intervals[0]\n",
    "        x_3, x_4 = intervals[1]\n",
    "        try:\n",
    "            sol1 = brentq(lambda x: func(x, p.y, p.tau, p.phi), x_1, x_2, full_output=False)\n",
    "            sol2 = brentq(lambda x: func(x, p.y, p.tau, p.phi), x_3, x_4, full_output=False)\n",
    "        except Exception, e:\n",
    "            print \"Parameters:\", p.y, p.tau, p.phi\n",
    "            print \"Bracketing interval 1:\", (x_1, x_2)\n",
    "            print \"Function values:\", func(x_1, p.y, p.tau, p.phi), func(x_2, p.y, p.tau, p.phi)\n",
    "            print \"Bracketing interval 2:\", (x_3, x_4)\n",
    "            print \"Function values:\", func(x_3, p.y, p.tau, p.phi), func(x_4, p.y, p.tau, p.phi)\n",
    "            plt.plot(xs, func(xs, p.y, p.tau, p.phi))\n",
    "            raise e\n",
    "        return (sol1, sol2)\n",
    "    else:\n",
    "        print \"Unexpected number of sign changes:\", Ns\n",
    "        return (np.nan, np.nan)\n",
    "\n",
    "    \n",
    "def return_abs_pair_energy(p):\n",
    "    levels = find_abs_energies(p)\n",
    "    return np.average(levels)\n",
    "\n",
    "\n",
    "def fit_abs_pair_energy(B, gfactor, tau, phi, gap):\n",
    "    y = 0.5 * gfactor * MU_B * B / gap\n",
    "    p = SimpleNamespace(y=y, tau=tau, phi=phi)\n",
    "    if gfactor <=2:\n",
    "        return 1e5\n",
    "    else:\n",
    "        energy = return_abs_pair_energy(p)\n",
    "        return energy\n",
    "\n",
    "vfit_abs_pair_energy = np.vectorize(fit_abs_pair_energy, otypes=[np.float],\n",
    "                                    excluded=['gfactor', 'tau', 'phi', 'gap'])"
   ]
  },
  {
   "cell_type": "code",
   "execution_count": 31,
   "metadata": {
    "collapsed": true
   },
   "outputs": [],
   "source": [
    "p = SimpleNamespace(y=0.2, tau=TAU, phi=np.pi)"
   ]
  },
  {
   "cell_type": "code",
   "execution_count": 32,
   "metadata": {
    "collapsed": false
   },
   "outputs": [
    {
     "data": {
      "text/plain": [
       "(0.605724729229344, 0.689762833751606)"
      ]
     },
     "execution_count": 32,
     "metadata": {},
     "output_type": "execute_result"
    }
   ],
   "source": [
    "find_abs_energies(p)"
   ]
  },
  {
   "cell_type": "code",
   "execution_count": 63,
   "metadata": {
    "collapsed": false
   },
   "outputs": [
    {
     "name": "stdout",
     "output_type": "stream",
     "text": [
      "No sign changes: 0\n",
      "No sign changes: 0\n",
      "No sign changes: 0\n",
      "Discarding sign change detections: too close to each other.\n",
      "No sign changes: 0\n",
      "Discarding sign change detections: too close to each other.\n",
      "No sign changes: 0\n"
     ]
    }
   ],
   "source": [
    "p = SimpleNamespace(tau=1.0, phi=3 * np.pi / 4)\n",
    "ys = np.linspace(0., 1, 100, endpoint=False)\n",
    "energies = []\n",
    "for y in ys:\n",
    "    p.y = y\n",
    "    sol = find_abs_energies(p)\n",
    "    energies.append(sol)\n",
    "    #gaps.append(compute_gap(p))\n",
    "ens1, ens2 = np.asarray(zip(*energies))"
   ]
  },
  {
   "cell_type": "code",
   "execution_count": 64,
   "metadata": {
    "collapsed": false
   },
   "outputs": [
    {
     "data": {
      "text/plain": [
       "[<matplotlib.lines.Line2D at 0x10d9f3a10>]"
      ]
     },
     "execution_count": 64,
     "metadata": {},
     "output_type": "execute_result"
    },
    {
     "data": {
      "image/png": "[encoded data removed]",
      "text/plain": [
       "<matplotlib.figure.Figure at 0x10ce48490>"
      ]
     },
     "metadata": {},
     "output_type": "display_data"
    }
   ],
   "source": [
    "plt.plot(ys, ens1, c='r', lw=2)\n",
    "plt.plot(ys, ens2, c='b', lw=2)\n",
    "plt.plot(ys, (ens1 + ens2)/2, c='k', ls='--', lw=1)\n",
    "plt.plot(ys, 1-ys, c='k', lw=2)\n",
    "#plt.plot(ys, [gap(y, p.z) for y in ys], c='k', lw=2)"
   ]
  },
  {
   "cell_type": "code",
   "execution_count": 67,
   "metadata": {
    "collapsed": false
   },
   "outputs": [
    {
     "name": "stdout",
     "output_type": "stream",
     "text": [
      "No sign changes: 0\n",
      "Discarding sign change detections: too close to each other.\n",
      "No sign changes: 0\n",
      "Discarding sign change detections: too close to each other.\n",
      "No sign changes: 0\n"
     ]
    }
   ],
   "source": [
    "p = SimpleNamespace(tau=1.0, phi= np.pi / 2)\n",
    "ys = np.linspace(0., 1, 100, endpoint=False)\n",
    "energies = []\n",
    "for y in ys:\n",
    "    p.y = y\n",
    "    sol = find_abs_energies(p)\n",
    "    energies.append(sol)\n",
    "    #gaps.append(compute_gap(p))\n",
    "ens1, ens2 = np.asarray(zip(*energies))"
   ]
  },
  {
   "cell_type": "code",
   "execution_count": 66,
   "metadata": {
    "collapsed": false
   },
   "outputs": [
    {
     "data": {
      "text/plain": [
       "[<matplotlib.lines.Line2D at 0x10db1c250>]"
      ]
     },
     "execution_count": 66,
     "metadata": {},
     "output_type": "execute_result"
    },
    {
     "data": {
      "image/png": "[encoded data removed]",
      "text/plain": [
       "<matplotlib.figure.Figure at 0x10d8b83d0>"
      ]
     },
     "metadata": {},
     "output_type": "display_data"
    }
   ],
   "source": [
    "plt.plot(ys, ens1, c='r', lw=2)\n",
    "plt.plot(ys, ens2, c='b', lw=2)\n",
    "plt.plot(ys, (ens1 + ens2)/2, c='k', ls='--', lw=1)\n",
    "plt.plot(ys, 1-ys, c='k', lw=2)\n",
    "#plt.plot(ys, [gap(y, p.z) for y in ys], c='k', lw=2)"
   ]
  },
  {
   "cell_type": "markdown",
   "metadata": {},
   "source": [
    "## Splitting of ABS"
   ]
  },
  {
   "cell_type": "code",
   "execution_count": 25,
   "metadata": {
    "collapsed": false
   },
   "outputs": [
    {
     "name": "stdout",
     "output_type": "stream",
     "text": [
      "No sign changes: 0\n",
      "No sign changes: 0\n",
      "No sign changes: 0\n",
      "No sign changes: 0\n",
      "No sign changes: 0\n",
      "No sign changes: 0\n",
      "No sign changes: 0\n",
      "No sign changes: 0\n",
      "No sign changes: 0\n",
      "No sign changes: 0\n",
      "No sign changes: 0\n",
      "No sign changes: 0\n",
      "No sign changes: 0\n",
      "No sign changes: 0\n",
      "No sign changes: 0\n"
     ]
    }
   ],
   "source": [
    "p = SimpleNamespace(tau=0.8, phi=np.pi)\n",
    "ys = np.linspace(0., 1, 100, endpoint=False)\n",
    "energies = []\n",
    "for y in ys:\n",
    "    p.y = y\n",
    "    sol = find_abs_energies(p)\n",
    "    energies.append(sol)\n",
    "    #gaps.append(compute_gap(p))\n",
    "ens1, ens2 = np.asarray(zip(*energies))"
   ]
  },
  {
   "cell_type": "code",
   "execution_count": 26,
   "metadata": {
    "collapsed": false
   },
   "outputs": [
    {
     "data": {
      "text/plain": [
       "[<matplotlib.lines.Line2D at 0x10d1af9d0>]"
      ]
     },
     "execution_count": 26,
     "metadata": {},
     "output_type": "execute_result"
    },
    {
     "data": {
      "image/png": "[encoded data removed]",
      "text/plain": [
       "<matplotlib.figure.Figure at 0x10cf1c1d0>"
      ]
     },
     "metadata": {},
     "output_type": "display_data"
    }
   ],
   "source": [
    "plt.plot(ys, ens1, c='r', lw=2)\n",
    "plt.plot(ys, ens2, c='b', lw=2)\n",
    "plt.plot(ys, (ens1 + ens2)/2, c='k', ls='--', lw=1)\n",
    "plt.plot(ys, 1-ys, c='k', lw=2)\n",
    "#plt.plot(ys, [gap(y, p.z) for y in ys], c='k', lw=2)"
   ]
  },
  {
   "cell_type": "markdown",
   "metadata": {},
   "source": [
    "## Fit to experimental data"
   ]
  },
  {
   "cell_type": "code",
   "execution_count": 47,
   "metadata": {
    "collapsed": false
   },
   "outputs": [
    {
     "name": "stdout",
     "output_type": "stream",
     "text": [
      "No sign changes: 0\n",
      "No sign changes: 0\n",
      "No sign changes: 0\n",
      "No sign changes: 0\n",
      "No sign changes: 0\n",
      "No sign changes: 0\n",
      "No sign changes: 0\n",
      "No sign changes: 0\n",
      "No sign changes: 0\n",
      "No sign changes: 0\n",
      "No sign changes: 0\n",
      "No sign changes: 0\n"
     ]
    },
    {
     "data": {
      "text/plain": [
       "(array([ 12.90689778]), array([[ 0.10728224]]))"
      ]
     },
     "execution_count": 47,
     "metadata": {},
     "output_type": "execute_result"
    }
   ],
   "source": [
    "minima = [(0, 1.01809e-4),(50, 9.98742e-5),(75, 9.58812e-5),(100,9.2654e-5),\n",
    "          (150,8.38036e-5),(200,7.27897e-5),(300,4.26e-5)]\n",
    "Bs, Es = np.asarray(zip(*minima))\n",
    "Es *= 1e6\n",
    "Es /= GAP\n",
    "popt, pcov = curve_fit(lambda x, gf: vfit_abs_pair_energy(x, gf, TAU, np.pi, GAP),\n",
    "                       Bs[1:], Es[1:], p0=[3])\n",
    "popt, pcov"
   ]
  },
  {
   "cell_type": "code",
   "execution_count": 48,
   "metadata": {
    "collapsed": false
   },
   "outputs": [
    {
     "name": "stdout",
     "output_type": "stream",
     "text": [
      "No sign changes: 0\n",
      "No sign changes: 0\n",
      "No sign changes: 0\n",
      "No sign changes: 0\n",
      "No sign changes: 0\n",
      "No sign changes: 0\n",
      "No sign changes: 0\n",
      "No sign changes: 0\n",
      "No sign changes: 0\n",
      "No sign changes: 0\n",
      "No sign changes: 0\n",
      "No sign changes: 0\n",
      "No sign changes: 0\n",
      "No sign changes: 0\n",
      "No sign changes: 0\n",
      "No sign changes: 0\n",
      "No sign changes: 0\n",
      "No sign changes: 0\n",
      "No sign changes: 0\n",
      "No sign changes: 0\n",
      "No sign changes: 0\n",
      "No sign changes: 0\n",
      "No sign changes: 0\n",
      "No sign changes: 0\n",
      "No sign changes: 0\n",
      "No sign changes: 0\n",
      "No sign changes: 0\n",
      "No sign changes: 0\n",
      "No sign changes: 0\n",
      "No sign changes: 0\n",
      "No sign changes: 0\n",
      "No sign changes: 0\n",
      "No sign changes: 0\n"
     ]
    }
   ],
   "source": [
    "p = SimpleNamespace(gfactor=popt[0], tau=TAU, phi=np.pi)\n",
    "fields = np.linspace(0., 400, 100)\n",
    "energies = []\n",
    "gaps = []\n",
    "for B in fields:\n",
    "    p.y = 0.5 * p.gfactor * MU_B * B / GAP\n",
    "    sol = find_abs_energies(p)\n",
    "    energies.append(sol)\n",
    "    gaps.append(1 - p.y)\n",
    "ens1, ens2 = np.asarray(zip(*energies))"
   ]
  },
  {
   "cell_type": "code",
   "execution_count": 51,
   "metadata": {
    "collapsed": false
   },
   "outputs": [
    {
     "data": {
      "text/plain": [
       "(0, 1)"
      ]
     },
     "execution_count": 51,
     "metadata": {},
     "output_type": "execute_result"
    },
    {
     "data": {
      "image/png": "[encoded data removed]",
      "text/plain": [
       "<matplotlib.figure.Figure at 0x10d4afc10>"
      ]
     },
     "metadata": {},
     "output_type": "display_data"
    }
   ],
   "source": [
    "plt.plot(fields, ens1, c='r', lw=2)\n",
    "plt.plot(fields, ens2, c='b', lw=2)\n",
    "plt.plot(fields, (ens1 + ens2)/2, c='k', ls='--', lw=1)\n",
    "plt.plot(fields, gaps, c='k', lw=2)\n",
    "plt.plot(Bs, Es, 'o', c='k', markersize=7)\n",
    "plt.ylim(0, 1)"
   ]
  },
  {
   "cell_type": "markdown",
   "metadata": {},
   "source": [
    "## Fit to experimental data, including fit over transmission"
   ]
  },
  {
   "cell_type": "code",
   "execution_count": 52,
   "metadata": {
    "collapsed": false
   },
   "outputs": [
    {
     "name": "stdout",
     "output_type": "stream",
     "text": [
      "No sign changes: 0\n",
      "No sign changes: 0\n",
      "No sign changes: 0\n",
      "No sign changes: 0\n",
      "No sign changes: 0\n",
      "No sign changes: 0\n",
      "No sign changes: 0\n",
      "No sign changes: 0\n",
      "No sign changes: 0\n",
      "No sign changes: 0\n"
     ]
    },
    {
     "data": {
      "text/plain": [
       "(array([ 12.84540495,   0.57674583]), array([[ 0.08623754, -0.00059921],\n",
       "        [-0.00059921,  0.00017253]]))"
      ]
     },
     "execution_count": 52,
     "metadata": {},
     "output_type": "execute_result"
    }
   ],
   "source": [
    "minima = [(0, 1.01809e-4),(50, 9.98742e-5),(75, 9.58812e-5),(100,9.2654e-5),\n",
    "          (150,8.38036e-5),(200,7.27897e-5),(300,4.26e-5)]\n",
    "Bs, Es = np.asarray(zip(*minima))\n",
    "Es *= 1e6\n",
    "Es /= GAP\n",
    "popt, pcov = curve_fit(lambda x, gf, tau: vfit_abs_pair_energy(x, gf, tau, np.pi, GAP),\n",
    "                       Bs, Es, p0=[10, 0.6])\n",
    "popt, pcov"
   ]
  },
  {
   "cell_type": "code",
   "execution_count": 53,
   "metadata": {
    "collapsed": false
   },
   "outputs": [
    {
     "name": "stdout",
     "output_type": "stream",
     "text": [
      "No sign changes: 0\n",
      "No sign changes: 0\n",
      "No sign changes: 0\n",
      "No sign changes: 0\n",
      "No sign changes: 0\n",
      "No sign changes: 0\n",
      "No sign changes: 0\n",
      "No sign changes: 0\n",
      "No sign changes: 0\n",
      "No sign changes: 0\n",
      "No sign changes: 0\n",
      "No sign changes: 0\n",
      "No sign changes: 0\n",
      "No sign changes: 0\n",
      "No sign changes: 0\n",
      "No sign changes: 0\n",
      "No sign changes: 0\n",
      "No sign changes: 0\n",
      "No sign changes: 0\n",
      "No sign changes: 0\n",
      "No sign changes: 0\n",
      "No sign changes: 0\n",
      "No sign changes: 0\n",
      "No sign changes: 0\n",
      "No sign changes: 0\n",
      "No sign changes: 0\n",
      "No sign changes: 0\n",
      "No sign changes: 0\n",
      "No sign changes: 0\n",
      "No sign changes: 0\n",
      "No sign changes: 0\n",
      "No sign changes: 0\n",
      "No sign changes: 0\n",
      "No sign changes: 0\n",
      "No sign changes: 0\n",
      "No sign changes: 0\n",
      "No sign changes: 0\n",
      "No sign changes: 0\n",
      "No sign changes: 0\n"
     ]
    },
    {
     "data": {
      "text/plain": [
       "(0, 1)"
      ]
     },
     "execution_count": 53,
     "metadata": {},
     "output_type": "execute_result"
    },
    {
     "data": {
      "image/png": "[encoded data removed]",
      "text/plain": [
       "<matplotlib.figure.Figure at 0x10d6b5410>"
      ]
     },
     "metadata": {},
     "output_type": "display_data"
    }
   ],
   "source": [
    "p = SimpleNamespace(gfactor=popt[0], tau=popt[1], phi=np.pi)\n",
    "fields = np.linspace(0., 450, 100)\n",
    "energies = []\n",
    "gaps = []\n",
    "for B in fields:\n",
    "    p.y = 0.5 * p.gfactor * MU_B * B / GAP\n",
    "    sol = find_abs_energies(p)\n",
    "    energies.append(sol)\n",
    "    gaps.append(1 - p.y)\n",
    "ens1, ens2 = np.asarray(zip(*energies))\n",
    "plt.plot(fields, ens1, c='r', lw=2)\n",
    "plt.plot(fields, ens2, c='b', lw=2)\n",
    "plt.plot(fields, (ens1 + ens2)/2, c='k', ls='--', lw=1)\n",
    "plt.plot(fields, gaps, c='k', lw=2)\n",
    "plt.plot(Bs, Es, 'o', c='k', markersize=7)\n",
    "plt.ylim(0, 1)"
   ]
  },
  {
   "cell_type": "markdown",
   "metadata": {},
   "source": [
    "## Fit to experimental data, including transmission, with a larger gap"
   ]
  },
  {
   "cell_type": "code",
   "execution_count": 61,
   "metadata": {
    "collapsed": false
   },
   "outputs": [
    {
     "name": "stdout",
     "output_type": "stream",
     "text": [
      "No sign changes: 0\n",
      "No sign changes: 0\n",
      "No sign changes: 0\n",
      "No sign changes: 0\n",
      "No sign changes: 0\n",
      "No sign changes: 0\n",
      "No sign changes: 0\n",
      "No sign changes: 0\n",
      "No sign changes: 0\n",
      "No sign changes: 0\n",
      "No sign changes: 0\n",
      "No sign changes: 0\n",
      "No sign changes: 0\n"
     ]
    },
    {
     "data": {
      "text/plain": [
       "(array([ 13.79872228,   0.62407279]), array([[ 0.12435996, -0.000749  ],\n",
       "        [-0.000749  ,  0.00016526]]))"
      ]
     },
     "execution_count": 61,
     "metadata": {},
     "output_type": "execute_result"
    }
   ],
   "source": [
    "HIGHER_GAP = 160\n",
    "minima = [(0, 1.01809e-4),(50, 9.98742e-5),(75, 9.58812e-5),(100,9.2654e-5),\n",
    "          (150,8.38036e-5),(200,7.27897e-5),(300,4.26e-5)]\n",
    "Bs, Es = np.asarray(zip(*minima))\n",
    "Es *= 1e6\n",
    "Es /= HIGHER_GAP\n",
    "popt, pcov = curve_fit(lambda x, gf, tau: vfit_abs_pair_energy(x, gf, tau, np.pi, HIGHER_GAP),\n",
    "                       Bs, Es, p0=[10, 0.6])\n",
    "popt, pcov"
   ]
  },
  {
   "cell_type": "code",
   "execution_count": 62,
   "metadata": {
    "collapsed": false
   },
   "outputs": [
    {
     "name": "stdout",
     "output_type": "stream",
     "text": [
      "No sign changes: 0\n",
      "No sign changes: 0\n",
      "No sign changes: 0\n",
      "No sign changes: 0\n",
      "No sign changes: 0\n",
      "No sign changes: 0\n",
      "No sign changes: 0\n",
      "No sign changes: 0\n",
      "No sign changes: 0\n",
      "No sign changes: 0\n",
      "No sign changes: 0\n",
      "No sign changes: 0\n",
      "No sign changes: 0\n",
      "No sign changes: 0\n",
      "No sign changes: 0\n",
      "No sign changes: 0\n",
      "No sign changes: 0\n",
      "No sign changes: 0\n",
      "No sign changes: 0\n",
      "No sign changes: 0\n",
      "No sign changes: 0\n",
      "No sign changes: 0\n",
      "No sign changes: 0\n",
      "No sign changes: 0\n",
      "No sign changes: 0\n",
      "No sign changes: 0\n",
      "No sign changes: 0\n",
      "No sign changes: 0\n",
      "No sign changes: 0\n",
      "No sign changes: 0\n",
      "No sign changes: 0\n",
      "No sign changes: 0\n",
      "No sign changes: 0\n",
      "No sign changes: 0\n",
      "No sign changes: 0\n",
      "No sign changes: 0\n",
      "No sign changes: 0\n"
     ]
    },
    {
     "data": {
      "text/plain": [
       "(0, 1)"
      ]
     },
     "execution_count": 62,
     "metadata": {},
     "output_type": "execute_result"
    },
    {
     "data": {
      "image/png": "[encoded data removed]",
      "text/plain": [
       "<matplotlib.figure.Figure at 0x10d091f50>"
      ]
     },
     "metadata": {},
     "output_type": "display_data"
    }
   ],
   "source": [
    "p = SimpleNamespace(gfactor=popt[0], tau=popt[1], phi=np.pi)\n",
    "fields = np.linspace(0., 450, 100)\n",
    "energies = []\n",
    "gaps = []\n",
    "for B in fields:\n",
    "    p.y = 0.5 * p.gfactor * MU_B * B / HIGHER_GAP\n",
    "    sol = find_abs_energies(p)\n",
    "    energies.append(sol)\n",
    "    gaps.append(1 - p.y)\n",
    "ens1, ens2 = np.asarray(zip(*energies))\n",
    "plt.plot(fields, ens1, c='r', lw=2)\n",
    "plt.plot(fields, ens2, c='b', lw=2)\n",
    "plt.plot(fields, (ens1 + ens2)/2, c='k', ls='--', lw=1)\n",
    "plt.plot(fields, gaps, c='k', lw=2)\n",
    "plt.plot(Bs, Es, 'o', c='k', markersize=7)\n",
    "plt.ylim(0, 1)"
   ]
  }
 ],
 "metadata": {
  "kernelspec": {
   "display_name": "Python 2",
   "language": "python",
   "name": "python2"
  },
  "language_info": {
   "codemirror_mode": {
    "name": "ipython",
    "version": 2
   },
   "file_extension": ".py",
   "mimetype": "text/x-python",
   "name": "python",
   "nbconvert_exporter": "python",
   "pygments_lexer": "ipython2",
   "version": "2.7.11"
  }
 },
 "nbformat": 4,
 "nbformat_minor": 0
}
